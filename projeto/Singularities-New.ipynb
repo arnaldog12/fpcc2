{
 "cells": [
  {
   "cell_type": "code",
   "execution_count": 1,
   "metadata": {
    "collapsed": true,
    "scrolled": true
   },
   "outputs": [],
   "source": [
    "import numpy as np\n",
    "import matplotlib.pyplot as plt\n",
    "import cv2\n",
    "import cvutils\n",
    "from sklearn.feature_selection import SelectKBest\n",
    "from sklearn.metrics import accuracy_score, confusion_matrix, classification_report\n",
    "from sklearn.model_selection import train_test_split, GridSearchCV, StratifiedShuffleSplit\n",
    "from sklearn.pipeline import Pipeline\n",
    "from sklearn.preprocessing import StandardScaler\n",
    "from sklearn.svm import SVC\n",
    "from sklearn.utils import resample\n",
    "from scipy.misc import imread, toimage\n",
    "\n",
    "%matplotlib inline"
   ]
  },
  {
   "cell_type": "code",
   "execution_count": 4,
   "metadata": {
    "collapsed": true
   },
   "outputs": [],
   "source": [
    "root_path = 'samples//'\n",
    "samples_path = root_path + \"samples.png\""
   ]
  },
  {
   "cell_type": "code",
   "execution_count": 5,
   "metadata": {
    "collapsed": false
   },
   "outputs": [
    {
     "name": "stdout",
     "output_type": "stream",
     "text": [
      "(4006, 1600) (1500, 1600) (4006,) (1500,)\n",
      "[   0 1172 1480 1354] [  0 500 500 500]\n"
     ]
    }
   ],
   "source": [
    "samples_core = cv2.imread(root_path+\"cores.png\", cv2.IMREAD_GRAYSCALE)\n",
    "samples_delta = cv2.imread(root_path+\"deltas.png\", cv2.IMREAD_GRAYSCALE)\n",
    "samples_neg = cv2.imread(root_path+\"negs.png\", cv2.IMREAD_GRAYSCALE)\n",
    "\n",
    "np.random.seed(42)\n",
    "np.random.shuffle(samples_core)\n",
    "np.random.shuffle(samples_delta)\n",
    "np.random.shuffle(samples_neg)\n",
    "\n",
    "n_test = 500\n",
    "samples_train = np.vstack((samples_core[:-n_test], samples_delta[:-n_test], samples_neg[:-n_test]))\n",
    "samples_test = np.vstack((samples_core[-n_test:], samples_delta[-n_test:], samples_neg[-n_test:]))\n",
    "\n",
    "n_cores, n_deltas, n_negs = samples_core.shape[0]-n_test, samples_delta.shape[0]-n_test, samples_neg.shape[0]-n_test\n",
    "\n",
    "labels_train = np.concatenate( ( np.ones(n_cores), 2*np.ones(n_deltas), 3*np.ones(n_negs) ) ).astype(np.int)\n",
    "labels_test = np.concatenate( ( np.ones(n_test), 2*np.ones(n_test), 3*np.ones(n_test) ) ).astype(np.int)\n",
    "\n",
    "print(samples_train.shape, samples_test.shape, labels_train.shape, labels_test.shape)\n",
    "print(np.bincount(labels_train), np.bincount(labels_test))"
   ]
  },
  {
   "cell_type": "code",
   "execution_count": 6,
   "metadata": {
    "collapsed": true
   },
   "outputs": [],
   "source": [
    "def compute_hog_descriptors(samples):\n",
    "    im_array = []\n",
    "    for sample in samples:\n",
    "        im = np.reshape(sample, (40,40))\n",
    "        \n",
    "        hog = cv2.HOGDescriptor((40,40), (16,16), (8,8), (8,8), 9)\n",
    "        hog_desc = hog.compute(im)\n",
    "        \n",
    "        im_array.append(hog_desc.ravel())\n",
    "        \n",
    "    return np.asarray(im_array, dtype=np.float64).reshape(-1, hog_desc.shape[0])"
   ]
  },
  {
   "cell_type": "code",
   "execution_count": 7,
   "metadata": {
    "collapsed": false
   },
   "outputs": [
    {
     "name": "stdout",
     "output_type": "stream",
     "text": [
      "(4006, 576) (1500, 576)\n"
     ]
    }
   ],
   "source": [
    "batch_train = compute_hog_descriptors(samples_train)\n",
    "batch_test = compute_hog_descriptors(samples_test)\n",
    "\n",
    "print(batch_train.shape, batch_test.shape)"
   ]
  },
  {
   "cell_type": "code",
   "execution_count": 6,
   "metadata": {
    "collapsed": false,
    "scrolled": true
   },
   "outputs": [
    {
     "name": "stdout",
     "output_type": "stream",
     "text": [
      "Fitting 10 folds for each of 4 candidates, totalling 40 fits\n"
     ]
    },
    {
     "name": "stderr",
     "output_type": "stream",
     "text": [
      "[Parallel(n_jobs=-1)]: Done   2 tasks      | elapsed:    4.3s\n",
      "[Parallel(n_jobs=-1)]: Done   9 tasks      | elapsed:    7.5s\n",
      "[Parallel(n_jobs=-1)]: Done  16 tasks      | elapsed:   10.5s\n",
      "[Parallel(n_jobs=-1)]: Done  25 tasks      | elapsed:   16.5s\n",
      "[Parallel(n_jobs=-1)]: Done  30 out of  40 | elapsed:   18.3s remaining:    6.0s\n",
      "[Parallel(n_jobs=-1)]: Done  35 out of  40 | elapsed:   22.1s remaining:    3.1s\n",
      "[Parallel(n_jobs=-1)]: Done  40 out of  40 | elapsed:   22.8s remaining:    0.0s\n",
      "[Parallel(n_jobs=-1)]: Done  40 out of  40 | elapsed:   22.8s finished\n"
     ]
    },
    {
     "name": "stdout",
     "output_type": "stream",
     "text": [
      "{'SVC__C': 10, 'SVC__kernel': 'rbf'} 0.996754867698\n"
     ]
    }
   ],
   "source": [
    "estimators = [('StdScaler', StandardScaler()), ('SVC', SVC())]\n",
    "pipe = Pipeline(estimators)\n",
    "parameters = dict(SVC__kernel=['linear', 'rbf'], SVC__C=[1, 10])\n",
    "clf = GridSearchCV(pipe, parameters, cv=10, verbose=10, n_jobs=-1)\n",
    "clf.fit(batch_train, labels_train)\n",
    "print(clf.best_params_, clf.best_score_)"
   ]
  },
  {
   "cell_type": "code",
   "execution_count": 7,
   "metadata": {
    "collapsed": false,
    "scrolled": true
   },
   "outputs": [
    {
     "name": "stdout",
     "output_type": "stream",
     "text": [
      "Fitting 10 folds for each of 12 candidates, totalling 120 fits\n"
     ]
    },
    {
     "name": "stderr",
     "output_type": "stream",
     "text": [
      "[Parallel(n_jobs=-1)]: Done   2 tasks      | elapsed:    2.1s\n",
      "[Parallel(n_jobs=-1)]: Done   9 tasks      | elapsed:    2.7s\n",
      "[Parallel(n_jobs=-1)]: Done  16 tasks      | elapsed:    3.3s\n",
      "[Parallel(n_jobs=-1)]: Done  25 tasks      | elapsed:    4.2s\n",
      "[Parallel(n_jobs=-1)]: Done  34 tasks      | elapsed:    5.4s\n",
      "[Parallel(n_jobs=-1)]: Done  45 tasks      | elapsed:    7.2s\n",
      "[Parallel(n_jobs=-1)]: Done  56 tasks      | elapsed:    9.2s\n",
      "[Parallel(n_jobs=-1)]: Done  69 tasks      | elapsed:   12.9s\n",
      "[Parallel(n_jobs=-1)]: Done  82 tasks      | elapsed:   17.0s\n",
      "[Parallel(n_jobs=-1)]: Done  97 tasks      | elapsed:   22.2s\n",
      "[Parallel(n_jobs=-1)]: Done 118 out of 120 | elapsed:   32.2s remaining:    0.4s\n",
      "[Parallel(n_jobs=-1)]: Done 120 out of 120 | elapsed:   32.5s finished\n"
     ]
    },
    {
     "name": "stdout",
     "output_type": "stream",
     "text": [
      "{'Kbest__k': 401} 0.997503744383\n"
     ]
    }
   ],
   "source": [
    "estimators = [('StdScaler', StandardScaler()), ('Kbest', SelectKBest()), ('SVC', SVC(kernel='rbf', C=10))]\n",
    "pipe = Pipeline(estimators)\n",
    "parameters = dict(Kbest__k=range(1, batch_train.shape[1], 50))\n",
    "clf = GridSearchCV(pipe, parameters, cv=10, verbose=10, n_jobs=-1)\n",
    "clf.fit(batch_train, labels_train)\n",
    "print(clf.best_params_, clf.best_score_)"
   ]
  },
  {
   "cell_type": "code",
   "execution_count": 8,
   "metadata": {
    "collapsed": false,
    "scrolled": true
   },
   "outputs": [
    {
     "name": "stdout",
     "output_type": "stream",
     "text": [
      "Fitting 10 folds for each of 10 candidates, totalling 100 fits\n"
     ]
    },
    {
     "name": "stderr",
     "output_type": "stream",
     "text": [
      "[Parallel(n_jobs=-1)]: Done   2 tasks      | elapsed:    3.0s\n",
      "[Parallel(n_jobs=-1)]: Done   9 tasks      | elapsed:    5.0s\n",
      "[Parallel(n_jobs=-1)]: Done  16 tasks      | elapsed:    6.4s\n",
      "[Parallel(n_jobs=-1)]: Done  25 tasks      | elapsed:    9.6s\n",
      "[Parallel(n_jobs=-1)]: Done  34 tasks      | elapsed:   12.4s\n",
      "[Parallel(n_jobs=-1)]: Done  45 tasks      | elapsed:   16.7s\n",
      "[Parallel(n_jobs=-1)]: Done  56 tasks      | elapsed:   20.5s\n",
      "[Parallel(n_jobs=-1)]: Done  69 tasks      | elapsed:   24.3s\n",
      "[Parallel(n_jobs=-1)]: Done  82 tasks      | elapsed:   30.0s\n",
      "[Parallel(n_jobs=-1)]: Done  96 out of 100 | elapsed:   34.6s remaining:    1.3s\n",
      "[Parallel(n_jobs=-1)]: Done 100 out of 100 | elapsed:   35.6s finished\n"
     ]
    },
    {
     "name": "stdout",
     "output_type": "stream",
     "text": [
      "{'Kbest__k': 380} 0.998002995507\n"
     ]
    }
   ],
   "source": [
    "estimators = [('StdScaler', StandardScaler()), ('Kbest', SelectKBest()), ('SVC', SVC(kernel='rbf', C=10))]\n",
    "pipe = Pipeline(estimators)\n",
    "parameters = dict(Kbest__k=range(350, 450, 10))\n",
    "clf = GridSearchCV(pipe, parameters, cv=10, verbose=10, n_jobs=-1)\n",
    "clf.fit(batch_train, labels_train)\n",
    "print(clf.best_params_, clf.best_score_)"
   ]
  },
  {
   "cell_type": "code",
   "execution_count": 9,
   "metadata": {
    "collapsed": false
   },
   "outputs": [
    {
     "name": "stdout",
     "output_type": "stream",
     "text": [
      "0.996\n",
      "[[499   0   1]\n",
      " [  0 499   1]\n",
      " [  4   0 496]]\n"
     ]
    }
   ],
   "source": [
    "labels_pred = clf.predict(batch_test)\n",
    "\n",
    "print(accuracy_score(labels_test, labels_pred))\n",
    "print(confusion_matrix(labels_test, labels_pred))"
   ]
  },
  {
   "cell_type": "code",
   "execution_count": 11,
   "metadata": {
    "collapsed": false
   },
   "outputs": [
    {
     "name": "stdout",
     "output_type": "stream",
     "text": [
      "(1, 1600) (1, 1600) (4, 1600)\n"
     ]
    }
   ],
   "source": [
    "core_errors = samples_test[(labels_test == 1) & (labels_pred != 1)]\n",
    "delta_errors = samples_test[(labels_test == 2) & (labels_pred != 2)]\n",
    "neg_errors = samples_test[(labels_test == 3) & (labels_pred != 3)]\n",
    "\n",
    "print(core_errors.shape, delta_errors.shape, neg_errors.shape)"
   ]
  },
  {
   "cell_type": "code",
   "execution_count": 12,
   "metadata": {
    "collapsed": true
   },
   "outputs": [],
   "source": [
    "def plot_errors(errors):\n",
    "    plt.figure(figsize=(16,1))\n",
    "    n_errors = errors.shape[0]\n",
    "    i = 1\n",
    "    for error in errors:\n",
    "        plt.subplot(1, n_errors, i)\n",
    "        plt.imshow(error.reshape(40,40), cmap='gray')\n",
    "        i += 1"
   ]
  },
  {
   "cell_type": "code",
   "execution_count": 24,
   "metadata": {
    "collapsed": true
   },
   "outputs": [],
   "source": [
    "def save_errors(output_folder, str_prefix, errors):\n",
    "    for error, i in zip(errors, range(errors.shape[0])):\n",
    "        cv2.imwrite(\"{0}{1}_{2}.png\".format(output_folder, str_prefix, i), error.reshape(40,40))"
   ]
  },
  {
   "cell_type": "code",
   "execution_count": 17,
   "metadata": {
    "collapsed": false
   },
   "outputs": [
    {
     "data": {
      "image/png": "[encoded data removed]",
      "text/plain": [
       "<matplotlib.figure.Figure at 0x1fc005f33c8>"
      ]
     },
     "metadata": {},
     "output_type": "display_data"
    }
   ],
   "source": [
    "plot_errors(core_errors)"
   ]
  },
  {
   "cell_type": "code",
   "execution_count": 14,
   "metadata": {
    "collapsed": false
   },
   "outputs": [
    {
     "data": {
      "image/png": "[encoded data removed]",
      "text/plain": [
       "<matplotlib.figure.Figure at 0x1fc79d864e0>"
      ]
     },
     "metadata": {},
     "output_type": "display_data"
    }
   ],
   "source": [
    "plot_errors(delta_errors)"
   ]
  },
  {
   "cell_type": "code",
   "execution_count": 15,
   "metadata": {
    "collapsed": false
   },
   "outputs": [
    {
     "data": {
      "image/png": "[encoded data removed]",
      "text/plain": [
       "<matplotlib.figure.Figure at 0x1fc00182ba8>"
      ]
     },
     "metadata": {},
     "output_type": "display_data"
    }
   ],
   "source": [
    "plot_errors(neg_errors)"
   ]
  },
  {
   "cell_type": "code",
   "execution_count": 25,
   "metadata": {
    "collapsed": true
   },
   "outputs": [],
   "source": [
    "save_errors(root_path+\"errors\\\\\", \"core\", core_errors)\n",
    "save_errors(root_path+\"errors\\\\\", \"delta\", delta_errors)\n",
    "save_errors(root_path+\"errors\\\\\", \"neg\", neg_errors)"
   ]
  },
  {
   "cell_type": "code",
   "execution_count": 10,
   "metadata": {
    "collapsed": false
   },
   "outputs": [
    {
     "name": "stdout",
     "output_type": "stream",
     "text": [
      " 999911401697274235364703496054665528877593409700"
     ]
    }
   ],
   "source": [
    "scores = []\n",
    "for i in range(10000):\n",
    "    print(\"\\r\", i, end='')\n",
    "    x_test, y_test = resample(batch_test, labels_test, replace=True, n_samples=150)\n",
    "    y_pred = clf.predict(x_test)\n",
    "    \n",
    "    scores.append(accuracy_score(y_test, y_pred))"
   ]
  },
  {
   "cell_type": "code",
   "execution_count": null,
   "metadata": {
    "collapsed": true
   },
   "outputs": [],
   "source": [
    "best_pipe = clf.best_estimator_\n",
    "kbest = best_pipe.steps[1][1]"
   ]
  },
  {
   "cell_type": "code",
   "execution_count": null,
   "metadata": {
    "collapsed": true,
    "scrolled": false
   },
   "outputs": [],
   "source": [
    "best_features = np.sort(np.argsort(kbest.scores_)[-kbest.k:])\n",
    "print(best_features.shape, best_features, sep='\\n')"
   ]
  },
  {
   "cell_type": "code",
   "execution_count": 16,
   "metadata": {
    "collapsed": true
   },
   "outputs": [],
   "source": [
    "np.savetxt('C:\\\\Users\\\\Pesquisa\\\\Documents\\\\Arnaldo\\\\Singularidades\\\\scores.txt', scores, fmt='%.5f', delimiter=',')"
   ]
  },
  {
   "cell_type": "markdown",
   "metadata": {},
   "source": [
    "# PCA"
   ]
  },
  {
   "cell_type": "code",
   "execution_count": 8,
   "metadata": {
    "collapsed": true
   },
   "outputs": [],
   "source": [
    "from sklearn.decomposition import PCA"
   ]
  },
  {
   "cell_type": "code",
   "execution_count": 14,
   "metadata": {
    "collapsed": false
   },
   "outputs": [
    {
     "name": "stdout",
     "output_type": "stream",
     "text": [
      "(5506, 576) (5506,)\n"
     ]
    }
   ],
   "source": [
    "batch = np.vstack((batch_train, batch_test))\n",
    "labels = np.hstack((labels_train, labels_test))\n",
    "print(batch.shape, labels.shape)"
   ]
  },
  {
   "cell_type": "code",
   "execution_count": 11,
   "metadata": {
    "collapsed": false
   },
   "outputs": [
    {
     "name": "stdout",
     "output_type": "stream",
     "text": [
      "[ 0.15606211  0.29708027  0.42573108  0.54744694  0.66023494  0.70080536\n",
      "  0.73671472  0.76150055  0.77803951  0.79434299  0.80762929  0.81712087\n",
      "  0.8261386   0.83472439  0.8427124   0.84975681  0.85570685  0.86094963\n",
      "  0.8657866   0.86955878  0.87328028  0.87680675  0.88012355  0.88324058\n",
      "  0.88611415  0.88885611  0.89127039  0.89362784  0.8959543   0.89814386\n",
      "  0.90018004  0.90211043  0.90395049  0.90576773  0.90744839  0.90906482\n",
      "  0.9106631   0.91222668  0.91375344  0.91522859  0.91663461  0.91795254\n",
      "  0.91926607  0.92044433  0.92158871  0.92271866  0.92381068  0.92487376\n",
      "  0.92590646  0.92691944  0.92791767  0.92888066  0.92982492  0.93075917\n",
      "  0.93167714  0.93257094  0.9334358   0.93429168  0.93511382  0.9359219\n",
      "  0.93671354  0.93748478  0.93823829  0.93898515  0.93972021  0.94041851\n",
      "  0.94110605  0.94179116  0.9424711   0.943122    0.94376402  0.94439528\n",
      "  0.9450131   0.94562574  0.94622239  0.94681634  0.94739297  0.94796363\n",
      "  0.94852505  0.94907479  0.94962061  0.95015226  0.95068179  0.95120307\n",
      "  0.95172149  0.95223672  0.95274076  0.95323836  0.95372458  0.95420018\n",
      "  0.95467179  0.95513874  0.9555977   0.95605165  0.95649641  0.95693672\n",
      "  0.95737174  0.95779449  0.95821419  0.95863001  0.95903833  0.95944468\n",
      "  0.95984792  0.96023572  0.96061836  0.96099703  0.96137289  0.96174555\n",
      "  0.96211762  0.96247847  0.96283585  0.96319064  0.96353508  0.96387769\n",
      "  0.96421638  0.96455405  0.96488511  0.96520981  0.96553271  0.96585145\n",
      "  0.96616722  0.96647753  0.96678526  0.9670874   0.9673854   0.96768069\n",
      "  0.96797347  0.96826542  0.96855138  0.96883436  0.96911221  0.96938482\n",
      "  0.96965485  0.96992149  0.97018799  0.9704525   0.97071509  0.97097465\n",
      "  0.97122763  0.97147827  0.97172798  0.97197135  0.97221428  0.97245411\n",
      "  0.97269229  0.9729294   0.97316357  0.9733927   0.97362037  0.97384581\n",
      "  0.97406756  0.97428692  0.97450372  0.97472     0.97493381  0.97514698\n",
      "  0.97535717  0.97556493  0.97577201  0.97597489  0.97617608  0.97637581\n",
      "  0.97657443  0.97677034  0.97696474  0.97715601  0.97734632  0.97753595\n",
      "  0.97772227  0.97790653  0.97808825  0.97826965  0.97844833  0.9786254\n",
      "  0.97880098  0.97897534  0.97914688  0.97931684  0.9794855   0.97965239\n",
      "  0.97981794  0.97998173  0.98014293  0.98030186  0.98046044  0.98061753\n",
      "  0.98077411  0.98092867  0.98108124  0.98123268  0.9813828   0.98153111\n",
      "  0.98167878  0.98182588  0.98197091  0.98211494  0.98225696  0.98239781\n",
      "  0.98253735  0.98267641  0.98281343  0.98294969  0.98308492  0.98321929\n",
      "  0.98335241  0.98348379  0.98361368  0.98374202  0.98386948  0.98399627\n",
      "  0.98412159  0.98424647  0.98436994  0.98449186  0.98461326  0.98473372\n",
      "  0.98485301  0.9849706   0.98508706  0.98520319  0.98531823  0.9854331\n",
      "  0.98554719  0.98565968  0.98577186  0.98588378  0.98599501  0.98610459\n",
      "  0.98621401  0.98632258  0.98643016  0.98653624  0.9866415   0.98674656\n",
      "  0.98685073  0.98695387  0.98705595  0.98715768  0.9872588   0.98735875\n",
      "  0.98745728  0.9875552   0.9876525   0.98774913  0.98784518  0.98794068\n",
      "  0.98803466  0.98812824  0.98822162  0.98831429  0.98840571  0.98849686\n",
      "  0.98858787  0.98867758  0.9887666   0.98885508  0.98894295  0.98903014\n",
      "  0.98911693  0.98920301  0.98928869  0.98937386  0.98945831  0.98954136\n",
      "  0.989624    0.98970611  0.98978777  0.98986866  0.98994825  0.99002748\n",
      "  0.99010649  0.99018506  0.99026328  0.99034092  0.9904182   0.99049481\n",
      "  0.99057054  0.9906458   0.99072065  0.99079453  0.9908682   0.99094148\n",
      "  0.99101389  0.99108582  0.9911568   0.99122751  0.99129796  0.99136818\n",
      "  0.99143767  0.99150684  0.99157552  0.99164375  0.99171125  0.99177866\n",
      "  0.9918453   0.99191175  0.99197771  0.99204288  0.99210779  0.99217197\n",
      "  0.99223552  0.99229889  0.99236177  0.99242421  0.99248607  0.99254773\n",
      "  0.99260917  0.99267051  0.99273112  0.9927915   0.9928515   0.99291063\n",
      "  0.99296971  0.99302842  0.99308697  0.99314509  0.99320286  0.9932598\n",
      "  0.99331622  0.99337242  0.9934283   0.99348396  0.99353936  0.99359439\n",
      "  0.99364911  0.99370317  0.99375678  0.99381001  0.99386309  0.99391571\n",
      "  0.99396806  0.99401984  0.99407135  0.9941227   0.99417331  0.99422378\n",
      "  0.9942742   0.99432417  0.99437375  0.99442316  0.99447216  0.99452093\n",
      "  0.99456956  0.99461741  0.99466493  0.99471211  0.99475875  0.99480534\n",
      "  0.99485157  0.99489739  0.99494296  0.99498846  0.99503348  0.99507813\n",
      "  0.99512268  0.99516703  0.9952109   0.99525458  0.99529819  0.99534117\n",
      "  0.99538386  0.99542651  0.99546887  0.99551055  0.99555213  0.99559348\n",
      "  0.99563464  0.99567564  0.99571621  0.99575653  0.99579662  0.9958367\n",
      "  0.99587634  0.99591591  0.99595486  0.99599359  0.99603199  0.99607021\n",
      "  0.99610811  0.99614587  0.99618337  0.99622072  0.99625754  0.99629414\n",
      "  0.99633064  0.99636698  0.99640305  0.99643879  0.99647404  0.99650922\n",
      "  0.99654428  0.99657892  0.99661339  0.99664768  0.99668157  0.99671535\n",
      "  0.9967489   0.99678239  0.99681566  0.99684863  0.99688137  0.99691386\n",
      "  0.99694611  0.99697808  0.99700989  0.99704163  0.9970732   0.9971045\n",
      "  0.99713545  0.99716636  0.99719696  0.9972275   0.99725766  0.99728757\n",
      "  0.99731737  0.99734686  0.99737625  0.99740547  0.99743443  0.99746323\n",
      "  0.9974918   0.99752017  0.99754849  0.99757638  0.99760421  0.99763188\n",
      "  0.9976595   0.99768696  0.99771411  0.99774093  0.99776766  0.99779413\n",
      "  0.9978203   0.99784625  0.99787209  0.99789777  0.99792329  0.99794866\n",
      "  0.99797383  0.99799881  0.99802365  0.99804835  0.99807285  0.99809724\n",
      "  0.99812146  0.99814557  0.99816933  0.99819297  0.99821646  0.99823973\n",
      "  0.99826279  0.99828576  0.99830849  0.99833117  0.99835371  0.99837601\n",
      "  0.9983981   0.99842     0.99844187  0.99846366  0.99848514  0.99850648\n",
      "  0.99852778  0.99854883  0.99856972  0.99859046  0.99861095  0.99863126\n",
      "  0.99865147  0.99867155  0.99869149  0.99871138  0.99873114  0.9987508\n",
      "  0.99877013  0.99878937  0.99880832  0.99882724  0.99884597  0.99886454\n",
      "  0.998883    0.99890128  0.99891948  0.99893747  0.99895543  0.9989731\n",
      "  0.99899062  0.99900804  0.99902525  0.99904234  0.9990594   0.99907636\n",
      "  0.99909313  0.99910986  0.99912646  0.99914302  0.99915938  0.9991756\n",
      "  0.99919165  0.99920745  0.99922315  0.99923878  0.9992541   0.99926932\n",
      "  0.99928437  0.99929916  0.99931388  0.99932857  0.99934316  0.99935764\n",
      "  0.99937179  0.99938592  0.99939992  0.9994137   0.99942743  0.99944099\n",
      "  0.99945445  0.99946768  0.99948073  0.9994937   0.9995066   0.99951936\n",
      "  0.99953199  0.99954451  0.99955694  0.99956929  0.99958142  0.99959342\n",
      "  0.99960526  0.99961704  0.9996287   0.99964027  0.99965161  0.99966289\n",
      "  0.99967409  0.99968519  0.99969614  0.99970701  0.99971773  0.99972825\n",
      "  0.99973864  0.99974892  0.99975895  0.99976891  0.99977862  0.9997882\n",
      "  0.9997977   0.99980684  0.99981589  0.99982475  0.99983356  0.99984224\n",
      "  0.99985082  0.99985923  0.9998675   0.9998757   0.9998838   0.9998918\n",
      "  0.99989952  0.99990712  0.99991469  0.99992189  0.99992891  0.99993579\n",
      "  0.99994256  0.99994908  0.99995542  0.99996145  0.99996715  0.99997275\n",
      "  0.99997802  0.99998295  0.99998774  0.99999219  0.99999633  1.        ]\n"
     ]
    }
   ],
   "source": [
    "pca = PCA()\n",
    "pca.fit(batch)\n",
    "\n",
    "print(np.cumsum(pca.explained_variance_ratio_))"
   ]
  },
  {
   "cell_type": "code",
   "execution_count": 12,
   "metadata": {
    "collapsed": false
   },
   "outputs": [
    {
     "name": "stdout",
     "output_type": "stream",
     "text": [
      "(5506, 2)\n"
     ]
    }
   ],
   "source": [
    "pca = PCA(n_components=2)\n",
    "pca.fit(batch)\n",
    "batch_pca = pca.transform(batch)\n",
    "\n",
    "print(batch_pca.shape)"
   ]
  },
  {
   "cell_type": "code",
   "execution_count": 16,
   "metadata": {
    "collapsed": false
   },
   "outputs": [
    {
     "data": {
      "text/plain": [
       "(1, 3)"
      ]
     },
     "execution_count": 16,
     "metadata": {},
     "output_type": "execute_result"
    }
   ],
   "source": [
    "labels.min(), labels.max()"
   ]
  },
  {
   "cell_type": "code",
   "execution_count": 27,
   "metadata": {
    "collapsed": false
   },
   "outputs": [
    {
     "data": {
      "image/png": "[encoded data removed]",
      "text/plain": [
       "<matplotlib.figure.Figure at 0x121e094e0>"
      ]
     },
     "metadata": {},
     "output_type": "display_data"
    }
   ],
   "source": [
    "plt.figure(figsize=(8,6))\n",
    "\n",
    "for l, c in zip(range(1,4), [\"red\", \"green\", \"blue\"]):\n",
    "    batch_ = batch_pca[labels == l]\n",
    "    plt.scatter(batch_[:, 0], batch_[:, 1], s=2, c=c)"
   ]
  },
  {
   "cell_type": "code",
   "execution_count": 20,
   "metadata": {
    "collapsed": false
   },
   "outputs": [
    {
     "name": "stdout",
     "output_type": "stream",
     "text": [
      "(5506, 3)\n"
     ]
    }
   ],
   "source": [
    "res = np.hstack((batch_pca, labels.reshape(-1,1)))\n",
    "print(res.shape)"
   ]
  },
  {
   "cell_type": "code",
   "execution_count": 22,
   "metadata": {
    "collapsed": true
   },
   "outputs": [],
   "source": [
    "np.savetxt('samples.csv', res, delimiter=',')"
   ]
  },
  {
   "cell_type": "code",
   "execution_count": null,
   "metadata": {
    "collapsed": true
   },
   "outputs": [],
   "source": []
  }
 ],
 "metadata": {
  "anaconda-cloud": {},
  "kernelspec": {
   "display_name": "Python 3",
   "language": "python",
   "name": "python3"
  },
  "language_info": {
   "codemirror_mode": {
    "name": "ipython",
    "version": 3
   },
   "file_extension": ".py",
   "mimetype": "text/x-python",
   "name": "python",
   "nbconvert_exporter": "python",
   "pygments_lexer": "ipython3",
   "version": "3.5.2"
  },
  "nav_menu": {},
  "toc": {
   "navigate_menu": true,
   "number_sections": true,
   "sideBar": true,
   "threshold": 6,
   "toc_cell": false,
   "toc_section_display": "block",
   "toc_window_display": false
  }
 },
 "nbformat": 4,
 "nbformat_minor": 1
}
