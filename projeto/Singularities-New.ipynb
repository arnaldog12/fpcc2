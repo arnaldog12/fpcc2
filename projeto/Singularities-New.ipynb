{
 "cells": [
  {
   "cell_type": "code",
   "execution_count": 14,
   "metadata": {
    "scrolled": true
   },
   "outputs": [],
   "source": [
    "import numpy as np\n",
    "import matplotlib.pyplot as plt\n",
    "import cv2\n",
    "import cvutils\n",
    "from sklearn.feature_selection import SelectKBest\n",
    "from sklearn.metrics import accuracy_score, confusion_matrix, classification_report\n",
    "from sklearn.model_selection import train_test_split, GridSearchCV, StratifiedShuffleSplit\n",
    "from sklearn.pipeline import Pipeline\n",
    "from sklearn.preprocessing import StandardScaler\n",
    "from sklearn.svm import SVC\n",
    "from sklearn.utils import resample\n",
    "from scipy.misc import imread, toimage\n",
    "\n",
    "%matplotlib inline"
   ]
  },
  {
   "cell_type": "code",
   "execution_count": 2,
   "metadata": {
    "collapsed": true
   },
   "outputs": [],
   "source": [
    "root_path = 'C:\\\\Users\\\\Pesquisa\\\\Pictures\\\\Singularidades\\\\FVC2006-500\\\\Samples\\\\'\n",
    "samples_path = root_path + \"samples.png\""
   ]
  },
  {
   "cell_type": "code",
   "execution_count": 3,
   "metadata": {},
   "outputs": [
    {
     "name": "stdout",
     "output_type": "stream",
     "text": [
      "(4006, 1600) (1500, 1600) (4006,) (1500,)\n",
      "[   0 1172 1480 1354] [  0 500 500 500]\n"
     ]
    }
   ],
   "source": [
    "samples_core = cv2.imread(root_path+\"cores.png\", cv2.IMREAD_GRAYSCALE)\n",
    "samples_delta = cv2.imread(root_path+\"deltas.png\", cv2.IMREAD_GRAYSCALE)\n",
    "samples_neg = cv2.imread(root_path+\"negs.png\", cv2.IMREAD_GRAYSCALE)\n",
    "\n",
    "np.random.seed(42)\n",
    "np.random.shuffle(samples_core)\n",
    "np.random.shuffle(samples_delta)\n",
    "np.random.shuffle(samples_neg)\n",
    "\n",
    "n_test = 500\n",
    "samples_train = np.vstack((samples_core[:-n_test], samples_delta[:-n_test], samples_neg[:-n_test]))\n",
    "samples_test = np.vstack((samples_core[-n_test:], samples_delta[-n_test:], samples_neg[-n_test:]))\n",
    "\n",
    "n_cores, n_deltas, n_negs = samples_core.shape[0]-n_test, samples_delta.shape[0]-n_test, samples_neg.shape[0]-n_test\n",
    "\n",
    "labels_train = np.concatenate( ( np.ones(n_cores), 2*np.ones(n_deltas), 3*np.ones(n_negs) ) ).astype(np.int)\n",
    "labels_test = np.concatenate( ( np.ones(n_test), 2*np.ones(n_test), 3*np.ones(n_test) ) ).astype(np.int)\n",
    "\n",
    "print(samples_train.shape, samples_test.shape, labels_train.shape, labels_test.shape)\n",
    "print(np.bincount(labels_train), np.bincount(labels_test))"
   ]
  },
  {
   "cell_type": "code",
   "execution_count": 4,
   "metadata": {
    "collapsed": true
   },
   "outputs": [],
   "source": [
    "def compute_hog_descriptors(samples):\n",
    "    im_array = []\n",
    "    for sample in samples:\n",
    "        im = np.reshape(sample, (40,40))\n",
    "        \n",
    "        hog = cv2.HOGDescriptor((40,40), (16,16), (8,8), (8,8), 9)\n",
    "        hog_desc = hog.compute(im)\n",
    "        \n",
    "        im_array.append(hog_desc.ravel())\n",
    "        \n",
    "    return np.asarray(im_array, dtype=np.float64).reshape(-1, hog_desc.shape[0])"
   ]
  },
  {
   "cell_type": "code",
   "execution_count": 5,
   "metadata": {},
   "outputs": [
    {
     "name": "stdout",
     "output_type": "stream",
     "text": [
      "(4006, 576) (1500, 576)\n"
     ]
    }
   ],
   "source": [
    "batch_train = compute_hog_descriptors(samples_train)\n",
    "batch_test = compute_hog_descriptors(samples_test)\n",
    "\n",
    "print(batch_train.shape, batch_test.shape)"
   ]
  },
  {
   "cell_type": "code",
   "execution_count": 6,
   "metadata": {},
   "outputs": [
    {
     "name": "stdout",
     "output_type": "stream",
     "text": [
      "Fitting 10 folds for each of 4 candidates, totalling 40 fits\n"
     ]
    },
    {
     "name": "stderr",
     "output_type": "stream",
     "text": [
      "[Parallel(n_jobs=-1)]: Done   2 tasks      | elapsed:    4.3s\n",
      "[Parallel(n_jobs=-1)]: Done   9 tasks      | elapsed:    7.5s\n",
      "[Parallel(n_jobs=-1)]: Done  16 tasks      | elapsed:   10.5s\n",
      "[Parallel(n_jobs=-1)]: Done  25 tasks      | elapsed:   15.7s\n",
      "[Parallel(n_jobs=-1)]: Done  30 out of  40 | elapsed:   17.9s remaining:    5.9s\n",
      "[Parallel(n_jobs=-1)]: Done  35 out of  40 | elapsed:   21.1s remaining:    2.9s\n",
      "[Parallel(n_jobs=-1)]: Done  40 out of  40 | elapsed:   22.0s remaining:    0.0s\n",
      "[Parallel(n_jobs=-1)]: Done  40 out of  40 | elapsed:   22.0s finished\n"
     ]
    },
    {
     "name": "stdout",
     "output_type": "stream",
     "text": [
      "{'SVC__kernel': 'rbf', 'SVC__C': 10} 0.996754867698\n"
     ]
    }
   ],
   "source": [
    "estimators = [('StdScaler', StandardScaler()), ('SVC', SVC())]\n",
    "pipe = Pipeline(estimators)\n",
    "parameters = dict(SVC__kernel=['linear', 'rbf'], SVC__C=[1, 10])\n",
    "clf = GridSearchCV(pipe, parameters, cv=10, verbose=10, n_jobs=-1)\n",
    "clf.fit(batch_train, labels_train)\n",
    "print(clf.best_params_, clf.best_score_)"
   ]
  },
  {
   "cell_type": "code",
   "execution_count": 9,
   "metadata": {
    "scrolled": true
   },
   "outputs": [
    {
     "name": "stdout",
     "output_type": "stream",
     "text": [
      "Fitting 10 folds for each of 12 candidates, totalling 120 fits\n"
     ]
    },
    {
     "name": "stderr",
     "output_type": "stream",
     "text": [
      "[Parallel(n_jobs=-1)]: Done   2 tasks      | elapsed:    2.1s\n",
      "[Parallel(n_jobs=-1)]: Done   9 tasks      | elapsed:    2.7s\n",
      "[Parallel(n_jobs=-1)]: Done  16 tasks      | elapsed:    3.4s\n",
      "[Parallel(n_jobs=-1)]: Done  25 tasks      | elapsed:    4.3s\n",
      "[Parallel(n_jobs=-1)]: Done  34 tasks      | elapsed:    5.6s\n",
      "[Parallel(n_jobs=-1)]: Done  45 tasks      | elapsed:    7.2s\n",
      "[Parallel(n_jobs=-1)]: Done  56 tasks      | elapsed:    9.4s\n",
      "[Parallel(n_jobs=-1)]: Done  69 tasks      | elapsed:   13.2s\n",
      "[Parallel(n_jobs=-1)]: Done  82 tasks      | elapsed:   16.9s\n",
      "[Parallel(n_jobs=-1)]: Done  97 tasks      | elapsed:   22.4s\n",
      "[Parallel(n_jobs=-1)]: Done 118 out of 120 | elapsed:   32.5s remaining:    0.5s\n",
      "[Parallel(n_jobs=-1)]: Done 120 out of 120 | elapsed:   32.9s finished\n"
     ]
    },
    {
     "name": "stdout",
     "output_type": "stream",
     "text": [
      "{'Kbest__k': 401} 0.997503744383\n"
     ]
    }
   ],
   "source": [
    "estimators = [('StdScaler', StandardScaler()), ('Kbest', SelectKBest()), ('SVC', SVC(kernel='rbf', C=10))]\n",
    "pipe = Pipeline(estimators)\n",
    "parameters = dict(Kbest__k=range(1, batch_train.shape[1], 50))\n",
    "clf = GridSearchCV(pipe, parameters, cv=10, verbose=10, n_jobs=-1)\n",
    "clf.fit(batch_train, labels_train)\n",
    "print(clf.best_params_, clf.best_score_)"
   ]
  },
  {
   "cell_type": "code",
   "execution_count": 10,
   "metadata": {
    "scrolled": true
   },
   "outputs": [
    {
     "name": "stdout",
     "output_type": "stream",
     "text": [
      "Fitting 10 folds for each of 11 candidates, totalling 110 fits\n"
     ]
    },
    {
     "name": "stderr",
     "output_type": "stream",
     "text": [
      "[Parallel(n_jobs=-1)]: Done   2 tasks      | elapsed:    3.1s\n",
      "[Parallel(n_jobs=-1)]: Done   9 tasks      | elapsed:    5.0s\n",
      "[Parallel(n_jobs=-1)]: Done  16 tasks      | elapsed:    6.3s\n",
      "[Parallel(n_jobs=-1)]: Done  25 tasks      | elapsed:    9.4s\n",
      "[Parallel(n_jobs=-1)]: Done  34 tasks      | elapsed:   12.1s\n",
      "[Parallel(n_jobs=-1)]: Done  45 tasks      | elapsed:   16.2s\n",
      "[Parallel(n_jobs=-1)]: Done  56 tasks      | elapsed:   20.3s\n",
      "[Parallel(n_jobs=-1)]: Done  69 tasks      | elapsed:   24.1s\n",
      "[Parallel(n_jobs=-1)]: Done  82 tasks      | elapsed:   29.8s\n",
      "[Parallel(n_jobs=-1)]: Done 107 out of 110 | elapsed:   38.8s remaining:    1.0s\n",
      "[Parallel(n_jobs=-1)]: Done 110 out of 110 | elapsed:   39.1s finished\n"
     ]
    },
    {
     "name": "stdout",
     "output_type": "stream",
     "text": [
      "{'Kbest__k': 380} 0.998002995507\n"
     ]
    }
   ],
   "source": [
    "estimators = [('StdScaler', StandardScaler()), ('Kbest', SelectKBest()), ('SVC', SVC(kernel='rbf', C=10))]\n",
    "pipe = Pipeline(estimators)\n",
    "parameters = dict(Kbest__k=range(350, 460, 10))\n",
    "clf = GridSearchCV(pipe, parameters, cv=10, verbose=10, n_jobs=-1)\n",
    "clf.fit(batch_train, labels_train)\n",
    "print(clf.best_params_, clf.best_score_)"
   ]
  },
  {
   "cell_type": "code",
   "execution_count": 17,
   "metadata": {},
   "outputs": [
    {
     "name": "stdout",
     "output_type": "stream",
     "text": [
      " 9999"
     ]
    }
   ],
   "source": [
    "scores = []\n",
    "for i in range(10000):\n",
    "    print(\"\\r\", i, end='')\n",
    "    x_test, y_test = resample(batch_test, labels_test, replace=True)\n",
    "    y_pred = clf.predict(x_test)\n",
    "    \n",
    "    scores.append(accuracy_score(y_test, y_pred))"
   ]
  },
  {
   "cell_type": "code",
   "execution_count": 42,
   "metadata": {},
   "outputs": [
    {
     "data": {
      "text/plain": [
       "(array([  1.00000000e+00,   1.00000000e+00,   3.00000000e+00,\n",
       "          1.00000000e+01,   2.00000000e+01,   4.60000000e+01,\n",
       "          1.09000000e+02,   2.45000000e+02,   4.06000000e+02,\n",
       "          6.90000000e+02,   9.74000000e+02,   1.42200000e+03,\n",
       "          1.61900000e+03,   1.53100000e+03,   1.38100000e+03,\n",
       "          8.81000000e+02,   4.54000000e+02,   1.72000000e+02,\n",
       "          3.50000000e+01]),\n",
       " array([ 0.988     ,  0.98863158,  0.98926316,  0.98989474,  0.99052632,\n",
       "         0.99115789,  0.99178947,  0.99242105,  0.99305263,  0.99368421,\n",
       "         0.99431579,  0.99494737,  0.99557895,  0.99621053,  0.99684211,\n",
       "         0.99747368,  0.99810526,  0.99873684,  0.99936842,  1.        ]),\n",
       " <a list of 19 Patch objects>)"
      ]
     },
     "execution_count": 42,
     "metadata": {},
     "output_type": "execute_result"
    },
    {
     "data": {
      "image/png": "[encoded data removed]",
      "text/plain": [
       "<matplotlib.figure.Figure at 0x153cf86bfd0>"
      ]
     },
     "metadata": {},
     "output_type": "display_data"
    }
   ],
   "source": [
    "plt.hist(scores, bins=19)"
   ]
  },
  {
   "cell_type": "code",
   "execution_count": 90,
   "metadata": {},
   "outputs": [
    {
     "name": "stdout",
     "output_type": "stream",
     "text": [
      "0.996\n",
      "[[499   0   1]\n",
      " [  0 499   1]\n",
      " [  4   0 496]]\n"
     ]
    }
   ],
   "source": [
    "labels_pred = clf.predict(batch_test)\n",
    "\n",
    "print(accuracy_score(labels_test, labels_pred))\n",
    "print(confusion_matrix(labels_test, labels_pred))"
   ]
  },
  {
   "cell_type": "code",
   "execution_count": 55,
   "metadata": {},
   "outputs": [
    {
     "name": "stdout",
     "output_type": "stream",
     "text": [
      "(1, 1600) (1, 1600) (4, 1600)\n"
     ]
    }
   ],
   "source": [
    "core_errors = samples_test[(labels_test == 1) & (labels_pred != 1)]\n",
    "delta_errors = samples_test[(labels_test == 2) & (labels_pred != 2)]\n",
    "neg_errors = samples_test[(labels_test == 3) & (labels_pred != 3)]\n",
    "\n",
    "print(core_errors.shape, delta_errors.shape, neg_errors.shape)"
   ]
  },
  {
   "cell_type": "code",
   "execution_count": 85,
   "metadata": {
    "collapsed": true
   },
   "outputs": [],
   "source": [
    "def plot_errors(errors):\n",
    "    plt.figure(figsize=(16,1))\n",
    "    n_errors = errors.shape[0]\n",
    "    i = 1\n",
    "    for error in errors:\n",
    "        plt.subplot(1, n_errors, i)\n",
    "        plt.imshow(error.reshape(40,40), cmap='gray')\n",
    "        i += 1"
   ]
  },
  {
   "cell_type": "code",
   "execution_count": 86,
   "metadata": {},
   "outputs": [
    {
     "data": {
      "image/png": "[encoded data removed]",
      "text/plain": [
       "<matplotlib.figure.Figure at 0x153d0749780>"
      ]
     },
     "metadata": {},
     "output_type": "display_data"
    }
   ],
   "source": [
    "plot_errors(core_errors)"
   ]
  },
  {
   "cell_type": "code",
   "execution_count": 87,
   "metadata": {},
   "outputs": [
    {
     "data": {
      "image/png": "[encoded data removed]",
      "text/plain": [
       "<matplotlib.figure.Figure at 0x153d08c4048>"
      ]
     },
     "metadata": {},
     "output_type": "display_data"
    }
   ],
   "source": [
    "plot_errors(delta_errors)"
   ]
  },
  {
   "cell_type": "code",
   "execution_count": 88,
   "metadata": {},
   "outputs": [
    {
     "data": {
      "image/png": "[encoded data removed]",
      "text/plain": [
       "<matplotlib.figure.Figure at 0x153d0ce5f60>"
      ]
     },
     "metadata": {},
     "output_type": "display_data"
    }
   ],
   "source": [
    "plot_errors(neg_errors)"
   ]
  },
  {
   "cell_type": "code",
   "execution_count": 34,
   "metadata": {},
   "outputs": [],
   "source": [
    "best_pipe = clf.best_estimator_\n",
    "kbest = best_pipe.steps[1][1]"
   ]
  },
  {
   "cell_type": "code",
   "execution_count": 35,
   "metadata": {},
   "outputs": [
    {
     "name": "stdout",
     "output_type": "stream",
     "text": [
      "(380,)\n",
      "[  0   1   2   4   5   6   8   9  10  11  13  14  15  17  18  19  20  21\n",
      "  22  23  24  26  27  28  29  30  31  32  33  35  36  37  38  40  41  42\n",
      "  44  45  46  47  49  50  51  54  55  56  58  59  60  62  63  64  65  67\n",
      "  68  69  71  72  73  74  75  76  77  78  81  82  84  85  86  87  90  91\n",
      "  92  94  95  96  99 100 101 102 103 105 108 109 111 112 114 116 117 118\n",
      " 120 121 122 125 126 127 129 130 132 134 135 136 138 139 143 144 145 146\n",
      " 147 148 152 153 154 155 156 157 159 161 162 163 165 166 169 170 171 172\n",
      " 174 175 178 179 180 181 182 183 184 186 188 189 190 191 193 195 197 198\n",
      " 199 201 202 205 206 207 208 209 210 211 215 217 218 222 225 226 227 228\n",
      " 231 235 236 243 244 246 251 252 253 255 256 260 261 262 264 265 269 270\n",
      " 271 273 274 277 278 279 280 282 283 286 287 288 292 293 295 296 297 301\n",
      " 302 304 305 306 308 310 311 312 313 314 315 317 318 319 320 321 322 323\n",
      " 324 328 329 331 332 333 337 338 339 340 341 342 344 345 346 347 348 349\n",
      " 350 353 354 357 358 359 366 369 372 375 376 377 380 381 384 385 389 390\n",
      " 391 393 394 395 396 399 400 402 403 404 405 408 409 412 413 417 418 419\n",
      " 420 421 422 423 426 427 428 430 431 432 434 435 436 437 438 439 440 443\n",
      " 444 445 446 447 448 449 450 452 453 454 456 457 458 461 462 463 465 466\n",
      " 467 470 471 472 474 475 476 479 480 481 483 484 488 489 490 492 493 494\n",
      " 497 498 499 501 502 506 507 508 510 511 515 516 517 518 519 520 521 524\n",
      " 525 526 527 528 529 530 533 534 535 536 537 538 539 543 544 545 546 547\n",
      " 548 549 552 553 554 556 557 560 561 562 563 565 566 567 569 570 571 572\n",
      " 574 575]\n"
     ]
    }
   ],
   "source": [
    "best_features = np.sort(np.argsort(kbest.scores_)[-kbest.k:])\n",
    "print(best_features.shape, best_features, sep='\\n')"
   ]
  },
  {
   "cell_type": "code",
   "execution_count": 38,
   "metadata": {},
   "outputs": [],
   "source": [
    "np.savetxt('C:\\\\Users\\\\Pesquisa\\\\Documents\\\\Arnaldo\\\\Singularidades\\\\scores.txt', scores, fmt='%.5f', delimiter=',')"
   ]
  },
  {
   "cell_type": "code",
   "execution_count": null,
   "metadata": {
    "collapsed": true
   },
   "outputs": [],
   "source": []
  }
 ],
 "metadata": {
  "anaconda-cloud": {},
  "kernelspec": {
   "display_name": "Python 3",
   "language": "python",
   "name": "python3"
  },
  "language_info": {
   "codemirror_mode": {
    "name": "ipython",
    "version": 3
   },
   "file_extension": ".py",
   "mimetype": "text/x-python",
   "name": "python",
   "nbconvert_exporter": "python",
   "pygments_lexer": "ipython3",
   "version": "3.5.3"
  },
  "nav_menu": {},
  "toc": {
   "navigate_menu": true,
   "number_sections": true,
   "sideBar": true,
   "threshold": 6,
   "toc_cell": false,
   "toc_section_display": "block",
   "toc_window_display": false
  }
 },
 "nbformat": 4,
 "nbformat_minor": 1
}
